{
  "nbformat": 4,
  "nbformat_minor": 0,
  "metadata": {
    "colab": {
      "provenance": [],
      "toc_visible": true,
      "authorship_tag": "ABX9TyOdyRVDTu+dA1GVbW8oRbaM"
    },
    "kernelspec": {
      "name": "python3",
      "display_name": "Python 3"
    },
    "language_info": {
      "name": "python"
    }
  },
  "cells": [
    {
      "cell_type": "markdown",
      "source": [
        "# Introduction\n",
        "\n",
        "In Python, loops are used to repeat a block of code multiple times. They are very useful when you want to perform the same action several times without writing the code over and over again.\n",
        "\n",
        "In short, loops let you automate repetitive tasks, and you can use conditions inside them to control what happens during each iteration."
      ],
      "metadata": {
        "id": "AMHFnRzYJ1Hb"
      }
    },
    {
      "cell_type": "markdown",
      "source": [
        "# For"
      ],
      "metadata": {
        "id": "kgd6cy0FMJJw"
      }
    },
    {
      "cell_type": "code",
      "execution_count": 3,
      "metadata": {
        "colab": {
          "base_uri": "https://localhost:8080/"
        },
        "id": "izkGltRaJxL_",
        "outputId": "5319be5e-907e-44a5-aed9-ebf14e956227"
      },
      "outputs": [
        {
          "output_type": "stream",
          "name": "stdout",
          "text": [
            "0\n",
            "1\n",
            "2\n",
            "3\n",
            "4\n"
          ]
        }
      ],
      "source": [
        "for i in range(5):\n",
        "  print(i)"
      ]
    },
    {
      "cell_type": "code",
      "source": [
        "for i in range(1,5):\n",
        "  print(i)"
      ],
      "metadata": {
        "colab": {
          "base_uri": "https://localhost:8080/"
        },
        "id": "5WJgwWvJMnkv",
        "outputId": "8c258c4b-b60c-433c-86e3-358eb1a40810"
      },
      "execution_count": 4,
      "outputs": [
        {
          "output_type": "stream",
          "name": "stdout",
          "text": [
            "1\n",
            "2\n",
            "3\n",
            "4\n"
          ]
        }
      ]
    },
    {
      "cell_type": "code",
      "source": [
        "for i in range(1,5,2):\n",
        "  print(i)"
      ],
      "metadata": {
        "colab": {
          "base_uri": "https://localhost:8080/"
        },
        "id": "3jiK3Oa0MtWg",
        "outputId": "bfa67584-f6b6-486a-d6da-d17e2bf4c875"
      },
      "execution_count": 5,
      "outputs": [
        {
          "output_type": "stream",
          "name": "stdout",
          "text": [
            "1\n",
            "3\n"
          ]
        }
      ]
    },
    {
      "cell_type": "markdown",
      "source": [
        "# While\n",
        "\n",
        "Careful to infinite loop using while!"
      ],
      "metadata": {
        "id": "TNmNPs3JP7-T"
      }
    },
    {
      "cell_type": "code",
      "source": [
        "i = 0\n",
        "while i < 5:\n",
        "  print(i)\n",
        "  i+=1"
      ],
      "metadata": {
        "colab": {
          "base_uri": "https://localhost:8080/"
        },
        "id": "CqWUofwBQmbG",
        "outputId": "3886ef09-9094-417c-84a6-156187b3ad1b"
      },
      "execution_count": 15,
      "outputs": [
        {
          "output_type": "stream",
          "name": "stdout",
          "text": [
            "0\n",
            "1\n",
            "2\n",
            "3\n",
            "4\n"
          ]
        }
      ]
    },
    {
      "cell_type": "code",
      "source": [
        "i = 11\n",
        "while i > 0:\n",
        "  if i%2 == 0:\n",
        "    print(i)\n",
        "    break\n",
        "  i-=1"
      ],
      "metadata": {
        "colab": {
          "base_uri": "https://localhost:8080/"
        },
        "id": "V8-bZjd0RL-I",
        "outputId": "5747ec6f-d8cb-4745-ae49-319052f6d2cc"
      },
      "execution_count": 18,
      "outputs": [
        {
          "output_type": "stream",
          "name": "stdout",
          "text": [
            "10\n"
          ]
        }
      ]
    },
    {
      "cell_type": "code",
      "source": [
        "i = 11\n",
        "while i > 0:\n",
        "  if i%2 == 0:\n",
        "    i-=1\n",
        "    continue\n",
        "  i-=1\n",
        "  print(i)"
      ],
      "metadata": {
        "colab": {
          "base_uri": "https://localhost:8080/"
        },
        "id": "Bqz9y4X3Rfgu",
        "outputId": "2e687227-8873-4461-cd81-faff6e00ed9f"
      },
      "execution_count": 22,
      "outputs": [
        {
          "output_type": "stream",
          "name": "stdout",
          "text": [
            "10\n",
            "8\n",
            "6\n",
            "4\n",
            "2\n",
            "0\n"
          ]
        }
      ]
    },
    {
      "cell_type": "markdown",
      "source": [
        "# Exercises\n"
      ],
      "metadata": {
        "id": "Qixjk-qOM07G"
      }
    },
    {
      "cell_type": "code",
      "source": [
        "#1. Sum numbers between 1-10\n",
        "sum = 0\n",
        "for i in range(1,11):\n",
        "  sum+=i\n",
        "print(sum)"
      ],
      "metadata": {
        "colab": {
          "base_uri": "https://localhost:8080/"
        },
        "id": "SMyVK2s1M3CC",
        "outputId": "fa581d51-83a7-4feb-83a6-1ea186ec1a31"
      },
      "execution_count": 6,
      "outputs": [
        {
          "output_type": "stream",
          "name": "stdout",
          "text": [
            "55\n"
          ]
        }
      ]
    },
    {
      "cell_type": "code",
      "source": [
        "#2. Factorial calculation\n",
        "number = int(input('Enter the number to calculate factorial: '))\n",
        "for i in range(1,number):\n",
        "  number = number*i\n",
        "print(number)"
      ],
      "metadata": {
        "colab": {
          "base_uri": "https://localhost:8080/"
        },
        "id": "Jx79Cr3jNhUj",
        "outputId": "df98bea8-1540-44c0-b6d7-c2d92bc2fc83"
      },
      "execution_count": 14,
      "outputs": [
        {
          "output_type": "stream",
          "name": "stdout",
          "text": [
            "Enter the number to calculate factorial: 6\n",
            "720\n"
          ]
        }
      ]
    },
    {
      "cell_type": "code",
      "source": [
        "#3. Print even numbers\n",
        "for i in range(1,11):\n",
        "  if i%2 == 0:\n",
        "    print(i)\n",
        "\n",
        "i=10\n",
        "while i > 0:\n",
        "  if i%2 ==0:\n",
        "    print(i)\n",
        "  i-=1"
      ],
      "metadata": {
        "colab": {
          "base_uri": "https://localhost:8080/"
        },
        "id": "N9PYChYRLYO4",
        "outputId": "eaadac24-bdaf-4141-9a79-772cdbdbd083"
      },
      "execution_count": 6,
      "outputs": [
        {
          "output_type": "stream",
          "name": "stdout",
          "text": [
            "2\n",
            "4\n",
            "6\n",
            "8\n",
            "10\n",
            "10\n",
            "8\n",
            "6\n",
            "4\n",
            "2\n"
          ]
        }
      ]
    }
  ]
}