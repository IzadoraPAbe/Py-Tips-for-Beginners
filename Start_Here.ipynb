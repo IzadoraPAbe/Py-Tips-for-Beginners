{
  "nbformat": 4,
  "nbformat_minor": 0,
  "metadata": {
    "colab": {
      "provenance": [],
      "toc_visible": true,
      "authorship_tag": "ABX9TyPZVlUfdUJlVeZBpoV2lF9R"
    },
    "kernelspec": {
      "name": "python3",
      "display_name": "Python 3"
    },
    "language_info": {
      "name": "python"
    }
  },
  "cells": [
    {
      "cell_type": "markdown",
      "source": [
        "# Introduction"
      ],
      "metadata": {
        "id": "zAeRcNhPOodm"
      }
    },
    {
      "cell_type": "code",
      "execution_count": 4,
      "metadata": {
        "colab": {
          "base_uri": "https://localhost:8080/"
        },
        "id": "Ih38OGKYsvdf",
        "outputId": "7acc36ee-0e7c-445d-83a8-8b00ad3df7fd"
      },
      "outputs": [
        {
          "output_type": "stream",
          "name": "stdout",
          "text": [
            "Hello, World!\n",
            "Hello, World!\n",
            "1, 2, 3\n"
          ]
        }
      ],
      "source": [
        "# use # to comment a single line\n",
        "\"\"\"\n",
        "to comment more lines, use \"\n",
        "\"\"\"\n",
        "\n",
        "print(\"Hello, World!\")\n",
        "print(\"Hello,\", end=' ')\n",
        "print(\"World!\")\n",
        "print(1, 2, 3, sep=\", \")"
      ]
    },
    {
      "cell_type": "code",
      "source": [
        "# use format to personalize your text\n",
        "\n",
        "A = \"John\"\n",
        "B = 30\n",
        "print(\"Hi %s, you're %d\" %(A, B))\n",
        "print(\"Hi {}, you're {}\".format(A, B))\n",
        "print(f\"Hi {A}, you're {B}\")\n",
        "\n",
        "# d-int\n",
        "# f-float\n",
        "# s-string"
      ],
      "metadata": {
        "colab": {
          "base_uri": "https://localhost:8080/"
        },
        "id": "VGf74fr_ZB7J",
        "outputId": "9e5bf4f6-bf35-45df-fd9a-6d5b2ce5ff2d"
      },
      "execution_count": 10,
      "outputs": [
        {
          "output_type": "stream",
          "name": "stdout",
          "text": [
            "Hi John, you're 30\n",
            "Hi John, you're 30\n",
            "Hi John, you're 30\n"
          ]
        }
      ]
    },
    {
      "cell_type": "code",
      "source": [
        "x = 2.5\n",
        "print(x)\n",
        "print(\"%.2f\" %(x))\n",
        "print(f\"The number is {x:.0f}\")\n",
        "\n",
        "x = 12345.65\n",
        "print(f\"The price is $ {x:,.2f}\")"
      ],
      "metadata": {
        "colab": {
          "base_uri": "https://localhost:8080/"
        },
        "id": "C_EmO9XS5WLo",
        "outputId": "0cde4c2c-829f-4a43-9823-aac30445a36d"
      },
      "execution_count": 22,
      "outputs": [
        {
          "output_type": "stream",
          "name": "stdout",
          "text": [
            "2.5\n",
            "2.50\n",
            "The number is 2\n",
            "The price is $ 12,345.65\n"
          ]
        }
      ]
    },
    {
      "cell_type": "markdown",
      "source": [
        "# Types"
      ],
      "metadata": {
        "id": "DsE8WqCS-aWq"
      }
    },
    {
      "cell_type": "markdown",
      "source": [
        "## Number"
      ],
      "metadata": {
        "id": "t3XJY9s6PZt3"
      }
    },
    {
      "cell_type": "code",
      "source": [
        "\"\"\"\n",
        "1 = integer = int\n",
        "1.1 = decimal = float\n",
        "Basic operations:\n",
        "+ (sum), - (sub), / (div), * (mult), ** (exp), // (int div), % (remainder)\n",
        "\"\"\"\n",
        "\n",
        "x=1+1\n",
        "y=1.1+2 #float + int = float\n",
        "\n",
        "print(type(x), type(y))"
      ],
      "metadata": {
        "colab": {
          "base_uri": "https://localhost:8080/"
        },
        "id": "oSKPyQPEM6vl",
        "outputId": "6b1f6d4b-d296-4323-b962-0b7aa562dfd3"
      },
      "execution_count": 39,
      "outputs": [
        {
          "output_type": "stream",
          "name": "stdout",
          "text": [
            "<class 'int'> <class 'float'>\n"
          ]
        }
      ]
    },
    {
      "cell_type": "code",
      "source": [
        "# Calculator\n",
        "Number1 = 4\n",
        "Number2 = 7\n",
        "\n",
        "print(\"sum: \", Number1 + Number2)\n",
        "print(\"sub: \", Number1 - Number2)\n",
        "print(\"div: \", Number1 / Number2)\n",
        "print(\"mult: \", Number1 * Number2)\n",
        "print(\"exp: \", Number1 ** Number2)\n",
        "print(\"int div: \", Number1 // Number2)\n",
        "print(\"remainder: \", Number1 % Number2)"
      ],
      "metadata": {
        "colab": {
          "base_uri": "https://localhost:8080/"
        },
        "id": "egsaiMmEb-1W",
        "outputId": "7172324f-85c7-4e66-d1fa-1a198eb2409c"
      },
      "execution_count": 48,
      "outputs": [
        {
          "output_type": "stream",
          "name": "stdout",
          "text": [
            "sum:  11\n",
            "sub:  -3\n",
            "div:  0.5714285714285714\n",
            "mult:  28\n",
            "exp:  16384\n",
            "int div:  0\n",
            "remainder:  4\n"
          ]
        }
      ]
    },
    {
      "cell_type": "markdown",
      "source": [
        "## String"
      ],
      "metadata": {
        "id": "uT0NqeXGRDW5"
      }
    },
    {
      "cell_type": "code",
      "source": [
        "# Strings are texts\n",
        "# Use \"\" or ''\n",
        "\n",
        "Name = \"Ana\"\n",
        "Age = '20'\n",
        "\n",
        "print(type(Age))\n",
        "print(\"Hi! I'm \" + Name + \". I'm \" + Age + \" years old\")"
      ],
      "metadata": {
        "colab": {
          "base_uri": "https://localhost:8080/"
        },
        "id": "unDqPflbT3YF",
        "outputId": "9d51dad1-5e92-4f34-a3aa-6dd41cdb2417"
      },
      "execution_count": 40,
      "outputs": [
        {
          "output_type": "stream",
          "name": "stdout",
          "text": [
            "<class 'str'>\n",
            "Hi! I'm Ana. I'm 20 years old\n"
          ]
        }
      ]
    },
    {
      "cell_type": "code",
      "source": [
        "# Use * to repeat\n",
        "print (\"-\" *10)"
      ],
      "metadata": {
        "colab": {
          "base_uri": "https://localhost:8080/"
        },
        "id": "n8IAhl-XYpxO",
        "outputId": "ebdf927d-52b0-45a5-98a8-3e91ad19c877"
      },
      "execution_count": 41,
      "outputs": [
        {
          "output_type": "stream",
          "name": "stdout",
          "text": [
            "----------\n"
          ]
        }
      ]
    },
    {
      "cell_type": "markdown",
      "source": [
        "## Boolean"
      ],
      "metadata": {
        "id": "36Xu2FqZTomw"
      }
    },
    {
      "cell_type": "code",
      "source": [
        "# True (1) or false (0)\n",
        "# Frequently used in conditions and comparisons\n",
        "\n",
        "active = True\n",
        "print(type(active))\n",
        "\n",
        "print(5==6)\n",
        "print(type(5==6))"
      ],
      "metadata": {
        "colab": {
          "base_uri": "https://localhost:8080/"
        },
        "id": "k1-6DNJyUr7x",
        "outputId": "0482545c-51a3-42c1-fa0f-80410c19964f"
      },
      "execution_count": 42,
      "outputs": [
        {
          "output_type": "stream",
          "name": "stdout",
          "text": [
            "<class 'bool'>\n",
            "False\n",
            "<class 'bool'>\n"
          ]
        }
      ]
    },
    {
      "cell_type": "markdown",
      "source": [
        "Operators\n",
        "==, !=, >, <, >=, <=\n"
      ],
      "metadata": {
        "id": "aASM6QoAcsXr"
      }
    },
    {
      "cell_type": "code",
      "source": [
        "print(Number1 == Number2)\n",
        "print(Number1 != Number2)\n",
        "print(Number1 > Number2)\n",
        "print(Number1 < Number2)\n",
        "print(Number1 >= Number2)\n",
        "print(Number1 <= Number2)"
      ],
      "metadata": {
        "colab": {
          "base_uri": "https://localhost:8080/"
        },
        "id": "E-LVWKKfd0kI",
        "outputId": "e2d81c64-afa6-460b-eaa5-9be339b577a3"
      },
      "execution_count": 51,
      "outputs": [
        {
          "output_type": "stream",
          "name": "stdout",
          "text": [
            "False\n",
            "True\n",
            "False\n",
            "True\n",
            "False\n",
            "True\n"
          ]
        }
      ]
    },
    {
      "cell_type": "markdown",
      "source": [
        "Operators and, or, not"
      ],
      "metadata": {
        "id": "uH7mr6ZpfcsD"
      }
    },
    {
      "cell_type": "code",
      "source": [
        "print(True and True)\n",
        "print(True and False)\n",
        "print(True or False)\n",
        "print(not True)"
      ],
      "metadata": {
        "colab": {
          "base_uri": "https://localhost:8080/"
        },
        "id": "VC1ZOCgffg-J",
        "outputId": "2b3d87ca-2db3-46cb-e442-cc5cdcdecb08"
      },
      "execution_count": 52,
      "outputs": [
        {
          "output_type": "stream",
          "name": "stdout",
          "text": [
            "True\n",
            "False\n",
            "True\n",
            "False\n"
          ]
        }
      ]
    },
    {
      "cell_type": "markdown",
      "source": [
        "## Lists"
      ],
      "metadata": {
        "id": "TEyN9NkcVuV1"
      }
    },
    {
      "cell_type": "code",
      "source": [
        "# A list can store multiple values ​​of different types\n",
        "\n",
        "data = ['Peter', 25, True]\n",
        "data.append(3.14)\n",
        "print(data)\n",
        "print(data[1])"
      ],
      "metadata": {
        "colab": {
          "base_uri": "https://localhost:8080/"
        },
        "id": "w5ZnF_ZuVwMB",
        "outputId": "c0883605-c445-4633-d0b8-01bd8a8b3b01"
      },
      "execution_count": 43,
      "outputs": [
        {
          "output_type": "stream",
          "name": "stdout",
          "text": [
            "['Peter', 25, True, 3.14]\n",
            "25\n"
          ]
        }
      ]
    },
    {
      "cell_type": "code",
      "source": [
        "list2 = ['text', 'to', 'add']\n",
        "data = data + list2\n",
        "print(data)"
      ],
      "metadata": {
        "colab": {
          "base_uri": "https://localhost:8080/"
        },
        "id": "fmvSyJ1FagQK",
        "outputId": "ca98164a-be26-46a6-8975-56376a1e2b74"
      },
      "execution_count": 44,
      "outputs": [
        {
          "output_type": "stream",
          "name": "stdout",
          "text": [
            "['Peter', 25, True, 3.14, 'text', 'to', 'add']\n"
          ]
        }
      ]
    },
    {
      "cell_type": "code",
      "source": [
        "# Tuple is similar to list but immutable\n",
        "colors = ('red', 'blue', 'pink')\n",
        "print(colors[0])"
      ],
      "metadata": {
        "colab": {
          "base_uri": "https://localhost:8080/"
        },
        "id": "OCklP_RDWVE8",
        "outputId": "46fd3a88-0814-46e4-b6c6-36dc1a115c7f"
      },
      "execution_count": 45,
      "outputs": [
        {
          "output_type": "stream",
          "name": "stdout",
          "text": [
            "red\n"
          ]
        }
      ]
    },
    {
      "cell_type": "markdown",
      "source": [
        "# Variables"
      ],
      "metadata": {
        "id": "JlgDhYR8ROdi"
      }
    },
    {
      "cell_type": "code",
      "source": [
        "# To assign a value to a variable, use =\n",
        "# Variable = Value\n",
        "\n",
        "Name = \"Marie\"\n",
        "print(Name)\n",
        "\n",
        "# Careful! You cannot start a variable with a number or special character\n",
        "# Start variables with letters or _\n",
        "# To make it more legible, you can use snake_case or objCaract\n",
        "# Python is case sensitive -> Name != name"
      ],
      "metadata": {
        "colab": {
          "base_uri": "https://localhost:8080/"
        },
        "id": "3M710nScRIIo",
        "outputId": "56e2f0b3-80f3-4d84-c14a-98ca41761275"
      },
      "execution_count": 7,
      "outputs": [
        {
          "output_type": "stream",
          "name": "stdout",
          "text": [
            "Marie\n"
          ]
        }
      ]
    },
    {
      "cell_type": "markdown",
      "source": [
        "# Input"
      ],
      "metadata": {
        "id": "F_-kXo-2gpbB"
      }
    },
    {
      "cell_type": "code",
      "source": [
        "# Use input to ask the user for a value\n",
        "# Return string\n",
        "age = input(\"How old are you? \")\n",
        "print(type(age))\n",
        "print(\"You are \" + age + \" years old\")"
      ],
      "metadata": {
        "colab": {
          "base_uri": "https://localhost:8080/"
        },
        "id": "lfBpl-y0grEa",
        "outputId": "433d2749-6238-4b14-c3ca-2836c1fc8c5f"
      },
      "execution_count": 58,
      "outputs": [
        {
          "output_type": "stream",
          "name": "stdout",
          "text": [
            "How old are you? 12\n",
            "<class 'str'>\n",
            "You are 12 years old\n"
          ]
        }
      ]
    },
    {
      "cell_type": "code",
      "source": [
        "height = float(input(\"How tall are you? \"))\n",
        "weight = float(input(\"How much do you weigh? \"))\n",
        "print(\"Your IMC is \", weight / (height**2))"
      ],
      "metadata": {
        "colab": {
          "base_uri": "https://localhost:8080/"
        },
        "id": "1FvI2WJwhyJd",
        "outputId": "ef96829f-d840-4272-953f-0a77a9cc3c11"
      },
      "execution_count": 61,
      "outputs": [
        {
          "output_type": "stream",
          "name": "stdout",
          "text": [
            "How tall are you? 1.65\n",
            "How much do you weigh? 55\n",
            "Your IMC is  20.202020202020204\n"
          ]
        }
      ]
    },
    {
      "cell_type": "markdown",
      "source": [
        "# Exercises"
      ],
      "metadata": {
        "id": "bEbGvViD-oCr"
      }
    },
    {
      "cell_type": "code",
      "source": [
        "#1. Calculate de average\n",
        "test1 = input('What is your first test score? ')\n",
        "test2 = input('What is your second test score? ')\n",
        "test3 = input('What is your third test score? ')\n",
        "average = (float(test1) + float(test2) + float(test3)) / 3\n",
        "print('Your average is %.2f' %(average))"
      ],
      "metadata": {
        "colab": {
          "base_uri": "https://localhost:8080/"
        },
        "id": "acNMeUNN-txx",
        "outputId": "51c891f5-2a12-433b-aac2-0b5f2661b39c"
      },
      "execution_count": 28,
      "outputs": [
        {
          "output_type": "stream",
          "name": "stdout",
          "text": [
            "What is your first test score? 1\n",
            "What is your second test score? 4\n",
            "What is your third test score? 6\n",
            "Your average is 3.67\n"
          ]
        }
      ]
    },
    {
      "cell_type": "code",
      "source": [
        "#2. Discount Calculator\n",
        "originalPrice = input('Original price: ')\n",
        "discount = input('% discount: ')\n",
        "newPrice = float(originalPrice)*(1 - float(discount)/100)\n",
        "print('New price: %.2f' %(newPrice))"
      ],
      "metadata": {
        "colab": {
          "base_uri": "https://localhost:8080/"
        },
        "id": "jpXXlvaO_lyt",
        "outputId": "3fb6df01-e129-48af-c1bf-1fb48fa1dbb9"
      },
      "execution_count": 32,
      "outputs": [
        {
          "output_type": "stream",
          "name": "stdout",
          "text": [
            "Original price: 1000\n",
            "% discount: 100\n",
            "New price: 0.00\n"
          ]
        }
      ]
    },
    {
      "cell_type": "code",
      "source": [
        "#3. Even or odd?\n",
        "number = input('Number: ')\n",
        "if int(number) % 2 == 0:\n",
        "    print('Even')\n",
        "else:\n",
        "    print('Odd')"
      ],
      "metadata": {
        "colab": {
          "base_uri": "https://localhost:8080/"
        },
        "id": "QjN3jCWIAO_U",
        "outputId": "9106bf79-9e04-4115-9a35-f666fff65a0d"
      },
      "execution_count": 35,
      "outputs": [
        {
          "output_type": "stream",
          "name": "stdout",
          "text": [
            "Number: 0\n",
            "Even\n"
          ]
        }
      ]
    },
    {
      "cell_type": "markdown",
      "source": [
        "# Easter Egg"
      ],
      "metadata": {
        "id": "mg1zGkuBXCOd"
      }
    },
    {
      "cell_type": "code",
      "source": [
        "import this"
      ],
      "metadata": {
        "colab": {
          "base_uri": "https://localhost:8080/"
        },
        "id": "dS0ngVz3XEKA",
        "outputId": "3ac50483-ebeb-49c5-ce1c-38c09a06eb82"
      },
      "execution_count": 29,
      "outputs": [
        {
          "output_type": "stream",
          "name": "stdout",
          "text": [
            "The Zen of Python, by Tim Peters\n",
            "\n",
            "Beautiful is better than ugly.\n",
            "Explicit is better than implicit.\n",
            "Simple is better than complex.\n",
            "Complex is better than complicated.\n",
            "Flat is better than nested.\n",
            "Sparse is better than dense.\n",
            "Readability counts.\n",
            "Special cases aren't special enough to break the rules.\n",
            "Although practicality beats purity.\n",
            "Errors should never pass silently.\n",
            "Unless explicitly silenced.\n",
            "In the face of ambiguity, refuse the temptation to guess.\n",
            "There should be one-- and preferably only one --obvious way to do it.\n",
            "Although that way may not be obvious at first unless you're Dutch.\n",
            "Now is better than never.\n",
            "Although never is often better than *right* now.\n",
            "If the implementation is hard to explain, it's a bad idea.\n",
            "If the implementation is easy to explain, it may be a good idea.\n",
            "Namespaces are one honking great idea -- let's do more of those!\n"
          ]
        }
      ]
    }
  ]
}