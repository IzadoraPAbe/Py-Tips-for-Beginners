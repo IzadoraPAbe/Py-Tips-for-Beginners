{
  "nbformat": 4,
  "nbformat_minor": 0,
  "metadata": {
    "colab": {
      "provenance": [],
      "toc_visible": true,
      "authorship_tag": "ABX9TyPdO3fjBvBVbBgkbiiwXzD5"
    },
    "kernelspec": {
      "name": "python3",
      "display_name": "Python 3"
    },
    "language_info": {
      "name": "python"
    }
  },
  "cells": [
    {
      "cell_type": "markdown",
      "source": [
        "# Introduction"
      ],
      "metadata": {
        "id": "zAeRcNhPOodm"
      }
    },
    {
      "cell_type": "code",
      "execution_count": 65,
      "metadata": {
        "colab": {
          "base_uri": "https://localhost:8080/"
        },
        "id": "Ih38OGKYsvdf",
        "outputId": "8d8aba58-2231-4851-a76c-b8d0205fda97"
      },
      "outputs": [
        {
          "output_type": "stream",
          "name": "stdout",
          "text": [
            "Hello, World!\n",
            "Hello, World!\n",
            "1, 2, 3\n"
          ]
        }
      ],
      "source": [
        "# use # to comment a single line\n",
        "\"\"\"\n",
        "to comment more lines, use \"\n",
        "\"\"\"\n",
        "\n",
        "print(\"Hello, World!\")\n",
        "print(\"Hello,\", end=' ')\n",
        "print(\"World!\")\n",
        "print(1, 2, 3, sep=\", \")"
      ]
    },
    {
      "cell_type": "code",
      "source": [
        "# use format to personalize your text\n",
        "\n",
        "A = \"John\"\n",
        "B = 30\n",
        "print(\"Hi %s, you're %d\" %(A, B))\n",
        "print(\"Hi {}, you're {}\".format(A, B))\n",
        "print(f\"Hi {A}, you're {B}\")\n",
        "\n",
        "# d-int\n",
        "# f-float\n",
        "# s-string"
      ],
      "metadata": {
        "colab": {
          "base_uri": "https://localhost:8080/"
        },
        "id": "VGf74fr_ZB7J",
        "outputId": "6af2c5eb-f95c-4d1c-cf25-501e14c5c5b9"
      },
      "execution_count": 66,
      "outputs": [
        {
          "output_type": "stream",
          "name": "stdout",
          "text": [
            "Hi John, you're 30\n",
            "Hi John, you're 30\n",
            "Hi John, you're 30\n"
          ]
        }
      ]
    },
    {
      "cell_type": "code",
      "source": [
        "x = 2.5\n",
        "print(x)\n",
        "print(\"%.2f\" %(x))\n",
        "print(f\"The number is {x:.0f}\")\n",
        "\n",
        "x = 12345.65\n",
        "print(f\"The price is $ {x:,.2f}\")"
      ],
      "metadata": {
        "colab": {
          "base_uri": "https://localhost:8080/"
        },
        "id": "C_EmO9XS5WLo",
        "outputId": "cf8d84b6-3513-4fef-fcef-301234bf8da5"
      },
      "execution_count": 67,
      "outputs": [
        {
          "output_type": "stream",
          "name": "stdout",
          "text": [
            "2.5\n",
            "2.50\n",
            "The number is 2\n",
            "The price is $ 12,345.65\n"
          ]
        }
      ]
    },
    {
      "cell_type": "markdown",
      "source": [
        "# Types"
      ],
      "metadata": {
        "id": "DsE8WqCS-aWq"
      }
    },
    {
      "cell_type": "markdown",
      "source": [
        "## Number"
      ],
      "metadata": {
        "id": "t3XJY9s6PZt3"
      }
    },
    {
      "cell_type": "code",
      "source": [
        "\"\"\"\n",
        "1 = integer = int\n",
        "1.1 = decimal = float\n",
        "Basic operations:\n",
        "+ (sum), - (sub), / (div), * (mult), ** (exp), // (int div), % (remainder)\n",
        "\"\"\"\n",
        "\n",
        "x=1+1\n",
        "y=1.1+2 #float + int = float\n",
        "\n",
        "print(type(x), type(y))"
      ],
      "metadata": {
        "colab": {
          "base_uri": "https://localhost:8080/"
        },
        "id": "oSKPyQPEM6vl",
        "outputId": "d65d1458-6804-46be-925d-ae077be99db1"
      },
      "execution_count": 68,
      "outputs": [
        {
          "output_type": "stream",
          "name": "stdout",
          "text": [
            "<class 'int'> <class 'float'>\n"
          ]
        }
      ]
    },
    {
      "cell_type": "code",
      "source": [
        "# Calculator\n",
        "Number1 = 4\n",
        "Number2 = 7\n",
        "\n",
        "print(\"sum: \", Number1 + Number2)\n",
        "print(\"sub: \", Number1 - Number2)\n",
        "print(\"div: \", Number1 / Number2)\n",
        "print(\"mult: \", Number1 * Number2)\n",
        "print(\"exp: \", Number1 ** Number2)\n",
        "print(\"int div: \", Number1 // Number2)\n",
        "print(\"remainder: \", Number1 % Number2)"
      ],
      "metadata": {
        "colab": {
          "base_uri": "https://localhost:8080/"
        },
        "id": "egsaiMmEb-1W",
        "outputId": "a6bc2ba2-01d7-4e50-ea0e-78afb2ec7267"
      },
      "execution_count": 69,
      "outputs": [
        {
          "output_type": "stream",
          "name": "stdout",
          "text": [
            "sum:  11\n",
            "sub:  -3\n",
            "div:  0.5714285714285714\n",
            "mult:  28\n",
            "exp:  16384\n",
            "int div:  0\n",
            "remainder:  4\n"
          ]
        }
      ]
    },
    {
      "cell_type": "markdown",
      "source": [
        "## String"
      ],
      "metadata": {
        "id": "uT0NqeXGRDW5"
      }
    },
    {
      "cell_type": "code",
      "source": [
        "# Strings are texts\n",
        "# Use \"\" or ''\n",
        "\n",
        "Name = \"Ana\"\n",
        "Age = '20'\n",
        "\n",
        "print(type(Age))\n",
        "print(\"Hi! I'm \" + Name + \". I'm \" + Age + \" years old\")"
      ],
      "metadata": {
        "colab": {
          "base_uri": "https://localhost:8080/"
        },
        "id": "unDqPflbT3YF",
        "outputId": "3f96dd09-b035-4f92-cc1a-2112404a9215"
      },
      "execution_count": 70,
      "outputs": [
        {
          "output_type": "stream",
          "name": "stdout",
          "text": [
            "<class 'str'>\n",
            "Hi! I'm Ana. I'm 20 years old\n"
          ]
        }
      ]
    },
    {
      "cell_type": "code",
      "source": [
        "# Use * to repeat\n",
        "print (\"-\" *10)"
      ],
      "metadata": {
        "colab": {
          "base_uri": "https://localhost:8080/"
        },
        "id": "n8IAhl-XYpxO",
        "outputId": "42f3b12a-53bc-48ca-a27e-8b9b907dce73"
      },
      "execution_count": 71,
      "outputs": [
        {
          "output_type": "stream",
          "name": "stdout",
          "text": [
            "----------\n"
          ]
        }
      ]
    },
    {
      "cell_type": "markdown",
      "source": [
        "## Boolean"
      ],
      "metadata": {
        "id": "36Xu2FqZTomw"
      }
    },
    {
      "cell_type": "code",
      "source": [
        "# True (1) or false (0)\n",
        "# Frequently used in conditions and comparisons\n",
        "\n",
        "active = True\n",
        "print(type(active))\n",
        "\n",
        "print(5==6)\n",
        "print(type(5==6))"
      ],
      "metadata": {
        "colab": {
          "base_uri": "https://localhost:8080/"
        },
        "id": "k1-6DNJyUr7x",
        "outputId": "1b8f3d6d-e767-4441-a73c-fbf533a11bfc"
      },
      "execution_count": 72,
      "outputs": [
        {
          "output_type": "stream",
          "name": "stdout",
          "text": [
            "<class 'bool'>\n",
            "False\n",
            "<class 'bool'>\n"
          ]
        }
      ]
    },
    {
      "cell_type": "markdown",
      "source": [
        "Operators\n",
        "==, !=, >, <, >=, <=\n"
      ],
      "metadata": {
        "id": "aASM6QoAcsXr"
      }
    },
    {
      "cell_type": "code",
      "source": [
        "print(Number1 == Number2)\n",
        "print(Number1 != Number2)\n",
        "print(Number1 > Number2)\n",
        "print(Number1 < Number2)\n",
        "print(Number1 >= Number2)\n",
        "print(Number1 <= Number2)"
      ],
      "metadata": {
        "colab": {
          "base_uri": "https://localhost:8080/"
        },
        "id": "E-LVWKKfd0kI",
        "outputId": "2e4bc714-e71c-457e-9100-29759a18b42b"
      },
      "execution_count": 73,
      "outputs": [
        {
          "output_type": "stream",
          "name": "stdout",
          "text": [
            "False\n",
            "True\n",
            "False\n",
            "True\n",
            "False\n",
            "True\n"
          ]
        }
      ]
    },
    {
      "cell_type": "markdown",
      "source": [
        "Operators and, or, not"
      ],
      "metadata": {
        "id": "uH7mr6ZpfcsD"
      }
    },
    {
      "cell_type": "code",
      "source": [
        "print(True and True)\n",
        "print(True and False)\n",
        "print(True or False)\n",
        "print(not True)"
      ],
      "metadata": {
        "colab": {
          "base_uri": "https://localhost:8080/"
        },
        "id": "VC1ZOCgffg-J",
        "outputId": "60697218-ea1c-473d-8e40-2710161fc457"
      },
      "execution_count": 74,
      "outputs": [
        {
          "output_type": "stream",
          "name": "stdout",
          "text": [
            "True\n",
            "False\n",
            "True\n",
            "False\n"
          ]
        }
      ]
    },
    {
      "cell_type": "markdown",
      "source": [
        "## Lists"
      ],
      "metadata": {
        "id": "TEyN9NkcVuV1"
      }
    },
    {
      "cell_type": "code",
      "source": [
        "# A list can store multiple values ​​of different types\n",
        "\n",
        "data = ['Peter', 25, True]\n",
        "data.append(3.14)\n",
        "\n",
        "print(data)\n",
        "print(data[1])\n",
        "print(data[-1])"
      ],
      "metadata": {
        "colab": {
          "base_uri": "https://localhost:8080/"
        },
        "id": "w5ZnF_ZuVwMB",
        "outputId": "8dc77aa1-5c35-401d-c2b1-0529f6387ad2"
      },
      "execution_count": 75,
      "outputs": [
        {
          "output_type": "stream",
          "name": "stdout",
          "text": [
            "['Peter', 25, True, 3.14]\n",
            "25\n",
            "3.14\n"
          ]
        }
      ]
    },
    {
      "cell_type": "code",
      "source": [
        "# To add an element at the end, use append\n",
        "# Use insert to add an element elsewhere\n",
        "\n",
        "data.insert(0, 'John')\n",
        "print(data)\n",
        "\n",
        "data.insert(2, 'third')\n",
        "print(data)"
      ],
      "metadata": {
        "colab": {
          "base_uri": "https://localhost:8080/"
        },
        "id": "mvdC_WvqS7p1",
        "outputId": "0f19574a-d09e-42ac-f6bc-539d02af6606"
      },
      "execution_count": 76,
      "outputs": [
        {
          "output_type": "stream",
          "name": "stdout",
          "text": [
            "['John', 'Peter', 25, True, 3.14]\n",
            "['John', 'Peter', 'third', 25, True, 3.14]\n"
          ]
        }
      ]
    },
    {
      "cell_type": "code",
      "source": [
        "# To delete the first occurrence of an element, use remove\n",
        "\n",
        "data.remove('third')\n",
        "print(data)"
      ],
      "metadata": {
        "colab": {
          "base_uri": "https://localhost:8080/"
        },
        "id": "AOEQbEosTq2-",
        "outputId": "8dcff43a-01ba-4a88-cbf3-38223b3b9323"
      },
      "execution_count": 77,
      "outputs": [
        {
          "output_type": "stream",
          "name": "stdout",
          "text": [
            "['John', 'Peter', 25, True, 3.14]\n"
          ]
        }
      ]
    },
    {
      "cell_type": "code",
      "source": [
        "# To access and remove the last element, use pop\n",
        "\n",
        "print(data.pop())\n",
        "print(data)"
      ],
      "metadata": {
        "colab": {
          "base_uri": "https://localhost:8080/"
        },
        "id": "MWbmVyp3Ukmk",
        "outputId": "358b2329-3c79-4db9-92b3-23702dfc6024"
      },
      "execution_count": 78,
      "outputs": [
        {
          "output_type": "stream",
          "name": "stdout",
          "text": [
            "3.14\n",
            "['John', 'Peter', 25, True]\n"
          ]
        }
      ]
    },
    {
      "cell_type": "code",
      "source": [
        "list2 = ['text', 'to', 'add']\n",
        "data = data + list2\n",
        "print(data)"
      ],
      "metadata": {
        "colab": {
          "base_uri": "https://localhost:8080/"
        },
        "id": "fmvSyJ1FagQK",
        "outputId": "cb3e2aca-5d42-458f-a4c2-864a6bde0276"
      },
      "execution_count": 79,
      "outputs": [
        {
          "output_type": "stream",
          "name": "stdout",
          "text": [
            "['John', 'Peter', 25, True, 'text', 'to', 'add']\n"
          ]
        }
      ]
    },
    {
      "cell_type": "code",
      "source": [
        "list2[0] = 'new'\n",
        "print(list2)"
      ],
      "metadata": {
        "colab": {
          "base_uri": "https://localhost:8080/"
        },
        "id": "e50dLMqCVNRL",
        "outputId": "db292507-1b7e-4cbb-9aca-e07d6f560479"
      },
      "execution_count": 80,
      "outputs": [
        {
          "output_type": "stream",
          "name": "stdout",
          "text": [
            "['new', 'to', 'add']\n"
          ]
        }
      ]
    },
    {
      "cell_type": "code",
      "source": [
        "# To clean a list\n",
        "data.clear()\n",
        "print(data)"
      ],
      "metadata": {
        "colab": {
          "base_uri": "https://localhost:8080/"
        },
        "id": "wcLmC8evUveC",
        "outputId": "681873ec-cd0c-4067-f654-2a9e00864d0e"
      },
      "execution_count": 81,
      "outputs": [
        {
          "output_type": "stream",
          "name": "stdout",
          "text": [
            "[]\n"
          ]
        }
      ]
    },
    {
      "cell_type": "markdown",
      "source": [
        "## Tuple\n",
        "\n",
        "Tuple is similar to list but immutable"
      ],
      "metadata": {
        "id": "Pb6adjCpWReK"
      }
    },
    {
      "cell_type": "code",
      "source": [
        "colors = ('red', 'blue', 'pink')\n",
        "print(colors[0])"
      ],
      "metadata": {
        "colab": {
          "base_uri": "https://localhost:8080/"
        },
        "id": "OCklP_RDWVE8",
        "outputId": "8c26bb27-7cd6-4464-94cd-80860b7969f2"
      },
      "execution_count": 82,
      "outputs": [
        {
          "output_type": "stream",
          "name": "stdout",
          "text": [
            "red\n"
          ]
        }
      ]
    },
    {
      "cell_type": "code",
      "source": [
        "colors2 = ('purple', 'green', 'red')\n",
        "colors = colors + colors2\n",
        "print(colors)\n",
        "print(colors2 * 2)"
      ],
      "metadata": {
        "colab": {
          "base_uri": "https://localhost:8080/"
        },
        "id": "hSCRoPP7xD5i",
        "outputId": "b61bfd06-7f50-4827-a8e2-82826aaed5b6"
      },
      "execution_count": 83,
      "outputs": [
        {
          "output_type": "stream",
          "name": "stdout",
          "text": [
            "('red', 'blue', 'pink', 'purple', 'green', 'red')\n",
            "('purple', 'green', 'red', 'purple', 'green', 'red')\n"
          ]
        }
      ]
    },
    {
      "cell_type": "code",
      "source": [
        "# Slice\n",
        "colors[5:]"
      ],
      "metadata": {
        "colab": {
          "base_uri": "https://localhost:8080/"
        },
        "id": "TQBJCrTJxQH9",
        "outputId": "77a490f0-6073-4ad6-e897-b0905cb506d6"
      },
      "execution_count": 84,
      "outputs": [
        {
          "output_type": "execute_result",
          "data": {
            "text/plain": [
              "('red',)"
            ]
          },
          "metadata": {},
          "execution_count": 84
        }
      ]
    },
    {
      "cell_type": "code",
      "source": [
        "# Length\n",
        "len(colors)"
      ],
      "metadata": {
        "colab": {
          "base_uri": "https://localhost:8080/"
        },
        "id": "zbLwiRwOxYsw",
        "outputId": "606b77b9-bbfb-4881-9b1a-3cd8b5fddb40"
      },
      "execution_count": 85,
      "outputs": [
        {
          "output_type": "execute_result",
          "data": {
            "text/plain": [
              "6"
            ]
          },
          "metadata": {},
          "execution_count": 85
        }
      ]
    },
    {
      "cell_type": "code",
      "source": [
        "# Count\n",
        "colors.count('red')"
      ],
      "metadata": {
        "colab": {
          "base_uri": "https://localhost:8080/"
        },
        "id": "rofBF3zxxre0",
        "outputId": "29c1b6fe-de82-4688-9d71-b182c3b7bd2c"
      },
      "execution_count": 86,
      "outputs": [
        {
          "output_type": "execute_result",
          "data": {
            "text/plain": [
              "2"
            ]
          },
          "metadata": {},
          "execution_count": 86
        }
      ]
    },
    {
      "cell_type": "markdown",
      "source": [
        "## Dictionaries\n",
        "\n",
        "In Python, dictionaries are a type of data structure used to store data in pairs of keys and values.\n",
        "\n",
        "Each key is unique and is used to access its corresponding value.\n",
        "\n",
        "Dictionaries are written using curly braces {}, with the key and value separated by a colon.\n",
        "\n",
        "Dictionaries are useful for organizing and retrieving data quickly.\n"
      ],
      "metadata": {
        "id": "OOYhkBFlyX0g"
      }
    },
    {
      "cell_type": "code",
      "source": [
        "people = {\n",
        "    'Name': 'Peter',\n",
        "    'Age': 25,\n",
        "    'Active': True\n",
        "}\n",
        "\n",
        "print(people)\n",
        "\n",
        "print(f\"Hi! I'm {people['Name']}. I'm {people['Age']} years old.\")"
      ],
      "metadata": {
        "colab": {
          "base_uri": "https://localhost:8080/"
        },
        "id": "F6g8tB2DzC-n",
        "outputId": "72ff3a4b-635e-411f-d525-e5ddc651194c"
      },
      "execution_count": 87,
      "outputs": [
        {
          "output_type": "stream",
          "name": "stdout",
          "text": [
            "{'Name': 'Peter', 'Age': 25, 'Active': True}\n",
            "Hi! I'm Peter. I'm 25 years old.\n"
          ]
        }
      ]
    },
    {
      "cell_type": "code",
      "source": [
        "people['Age'] = 26\n",
        "print(people)"
      ],
      "metadata": {
        "colab": {
          "base_uri": "https://localhost:8080/"
        },
        "id": "QQxBZpTnzbm8",
        "outputId": "0c759791-3dbb-47a5-a65c-d8bfe3f68cb0"
      },
      "execution_count": 88,
      "outputs": [
        {
          "output_type": "stream",
          "name": "stdout",
          "text": [
            "{'Name': 'Peter', 'Age': 26, 'Active': True}\n"
          ]
        }
      ]
    },
    {
      "cell_type": "code",
      "source": [
        "# Add new key-value\n",
        "people['Height'] = 1.8\n",
        "print(people)"
      ],
      "metadata": {
        "colab": {
          "base_uri": "https://localhost:8080/"
        },
        "id": "UZz-_Igf0RGg",
        "outputId": "3b05adca-8f14-444f-ac13-3d044969a1ba"
      },
      "execution_count": 89,
      "outputs": [
        {
          "output_type": "stream",
          "name": "stdout",
          "text": [
            "{'Name': 'Peter', 'Age': 26, 'Active': True, 'Height': 1.8}\n"
          ]
        }
      ]
    },
    {
      "cell_type": "code",
      "source": [
        "# Delete a key-value\n",
        "del people['Active']\n",
        "print(people)"
      ],
      "metadata": {
        "colab": {
          "base_uri": "https://localhost:8080/"
        },
        "id": "LJA7pxqe0hCV",
        "outputId": "181f7523-0257-477d-cd4f-76bdc5bb05e5"
      },
      "execution_count": 90,
      "outputs": [
        {
          "output_type": "stream",
          "name": "stdout",
          "text": [
            "{'Name': 'Peter', 'Age': 26, 'Height': 1.8}\n"
          ]
        }
      ]
    },
    {
      "cell_type": "code",
      "source": [
        "# Finding a key\n",
        "hasKey = 'Name' in people\n",
        "print(hasKey)\n",
        "\n",
        "hasKey = 'Active' in people\n",
        "print(hasKey)"
      ],
      "metadata": {
        "colab": {
          "base_uri": "https://localhost:8080/"
        },
        "id": "ya-pQvhd0yvK",
        "outputId": "7fe9e6cc-2c19-4f6e-adfb-a617d2ba2c6e"
      },
      "execution_count": 91,
      "outputs": [
        {
          "output_type": "stream",
          "name": "stdout",
          "text": [
            "True\n",
            "False\n"
          ]
        }
      ]
    },
    {
      "cell_type": "markdown",
      "source": [
        "# Variables"
      ],
      "metadata": {
        "id": "JlgDhYR8ROdi"
      }
    },
    {
      "cell_type": "code",
      "source": [
        "# To assign a value to a variable, use =\n",
        "# Variable = Value\n",
        "\n",
        "Name = \"Marie\"\n",
        "print(Name)\n",
        "\n",
        "# Careful! You cannot start a variable with a number or special character\n",
        "# Start variables with letters or _\n",
        "# To make it more legible, you can use snake_case or objCaract\n",
        "# Python is case sensitive -> Name != name"
      ],
      "metadata": {
        "colab": {
          "base_uri": "https://localhost:8080/"
        },
        "id": "3M710nScRIIo",
        "outputId": "086b77c8-8b16-4ae3-898e-56129e640969"
      },
      "execution_count": 92,
      "outputs": [
        {
          "output_type": "stream",
          "name": "stdout",
          "text": [
            "Marie\n"
          ]
        }
      ]
    },
    {
      "cell_type": "markdown",
      "source": [
        "# Input"
      ],
      "metadata": {
        "id": "F_-kXo-2gpbB"
      }
    },
    {
      "cell_type": "code",
      "source": [
        "# Use input to ask the user for a value\n",
        "# Return string\n",
        "age = input(\"How old are you? \")\n",
        "print(type(age))\n",
        "print(\"You are \" + age + \" years old\")"
      ],
      "metadata": {
        "colab": {
          "base_uri": "https://localhost:8080/"
        },
        "id": "lfBpl-y0grEa",
        "outputId": "2f69c1e2-2e06-4a25-f8dc-d53a269549a8"
      },
      "execution_count": 93,
      "outputs": [
        {
          "output_type": "stream",
          "name": "stdout",
          "text": [
            "How old are you? 15\n",
            "<class 'str'>\n",
            "You are 15 years old\n"
          ]
        }
      ]
    },
    {
      "cell_type": "code",
      "source": [
        "height = float(input(\"How tall are you? \"))\n",
        "weight = float(input(\"How much do you weigh? \"))\n",
        "print(\"Your IMC is \", weight / (height**2))"
      ],
      "metadata": {
        "colab": {
          "base_uri": "https://localhost:8080/"
        },
        "id": "1FvI2WJwhyJd",
        "outputId": "cb6d7341-3d1f-4b96-8e0f-6bb2321d2bba"
      },
      "execution_count": 94,
      "outputs": [
        {
          "output_type": "stream",
          "name": "stdout",
          "text": [
            "How tall are you? 1.7\n",
            "How much do you weigh? 65\n",
            "Your IMC is  22.49134948096886\n"
          ]
        }
      ]
    },
    {
      "cell_type": "markdown",
      "source": [
        "# If (conditional)"
      ],
      "metadata": {
        "id": "_50BDsh7DXLO"
      }
    },
    {
      "cell_type": "code",
      "source": [
        "# In Python, 'if' is a conditional statement used to control the flow of a program.\n",
        "# It allows you to execute a block of code only if a certain condition is true.\n",
        "\n",
        "x = 10\n",
        "if x>5:\n",
        "  print('x is greater than 5')"
      ],
      "metadata": {
        "colab": {
          "base_uri": "https://localhost:8080/"
        },
        "id": "Q8okVxSUDYWf",
        "outputId": "237a6df9-f425-465a-fca2-8c6bcb70b07c"
      },
      "execution_count": 95,
      "outputs": [
        {
          "output_type": "stream",
          "name": "stdout",
          "text": [
            "x is greater than 5\n"
          ]
        }
      ]
    },
    {
      "cell_type": "code",
      "source": [
        "if x==10:\n",
        "  print('x is equal to 10')\n",
        "else:\n",
        "  print('x is not equal to 10')"
      ],
      "metadata": {
        "colab": {
          "base_uri": "https://localhost:8080/"
        },
        "id": "JDI3TtbrDfPx",
        "outputId": "511b0105-c43f-4431-d834-e91cf2d0d474"
      },
      "execution_count": 96,
      "outputs": [
        {
          "output_type": "stream",
          "name": "stdout",
          "text": [
            "x is equal to 10\n"
          ]
        }
      ]
    },
    {
      "cell_type": "code",
      "source": [
        "grade = float(input('Enter your grade (0/100): '))\n",
        "if grade >= 90:\n",
        "  print('A')\n",
        "elif grade >= 80:\n",
        "  print('B')\n",
        "elif grade >= 70:\n",
        "  print('C')\n",
        "elif grade >= 60:\n",
        "  print('D')\n",
        "else:\n",
        "  print('F')"
      ],
      "metadata": {
        "colab": {
          "base_uri": "https://localhost:8080/"
        },
        "id": "YVLKwMv2EJp-",
        "outputId": "fc62bd9e-3f18-482e-8237-838ef5799b12"
      },
      "execution_count": 97,
      "outputs": [
        {
          "output_type": "stream",
          "name": "stdout",
          "text": [
            "Enter your grade (0/100): 67\n",
            "D\n"
          ]
        }
      ]
    },
    {
      "cell_type": "markdown",
      "source": [
        "# Exercises"
      ],
      "metadata": {
        "id": "bEbGvViD-oCr"
      }
    },
    {
      "cell_type": "code",
      "source": [
        "#1. Calculate de average\n",
        "test1 = input('What is your first test score? ')\n",
        "test2 = input('What is your second test score? ')\n",
        "test3 = input('What is your third test score? ')\n",
        "average = (float(test1) + float(test2) + float(test3)) / 3\n",
        "print('Your average is %.2f' %(average))"
      ],
      "metadata": {
        "colab": {
          "base_uri": "https://localhost:8080/"
        },
        "id": "acNMeUNN-txx",
        "outputId": "aafa8d03-a76d-4c5d-bfd8-12aa31be43ac"
      },
      "execution_count": 98,
      "outputs": [
        {
          "output_type": "stream",
          "name": "stdout",
          "text": [
            "What is your first test score? 8.5\n",
            "What is your second test score? 4\n",
            "What is your third test score? 7.8\n",
            "Your average is 6.77\n"
          ]
        }
      ]
    },
    {
      "cell_type": "code",
      "source": [
        "#2. Discount Calculator\n",
        "originalPrice = input('Original price: ')\n",
        "discount = input('% discount: ')\n",
        "newPrice = float(originalPrice)*(1 - float(discount)/100)\n",
        "print('New price: %.2f' %(newPrice))"
      ],
      "metadata": {
        "colab": {
          "base_uri": "https://localhost:8080/"
        },
        "id": "jpXXlvaO_lyt",
        "outputId": "b1159f09-ed6d-49d7-b703-82ee48b0231a"
      },
      "execution_count": 99,
      "outputs": [
        {
          "output_type": "stream",
          "name": "stdout",
          "text": [
            "Original price: 750\n",
            "% discount: 15\n",
            "New price: 637.50\n"
          ]
        }
      ]
    },
    {
      "cell_type": "code",
      "source": [
        "#3. Even or odd?\n",
        "number = input('Number: ')\n",
        "if int(number) % 2 == 0:\n",
        "    print('Even')\n",
        "else:\n",
        "    print('Odd')"
      ],
      "metadata": {
        "colab": {
          "base_uri": "https://localhost:8080/"
        },
        "id": "QjN3jCWIAO_U",
        "outputId": "77f2b1fd-4441-472e-d2f6-6feb84154704"
      },
      "execution_count": 100,
      "outputs": [
        {
          "output_type": "stream",
          "name": "stdout",
          "text": [
            "Number: 15\n",
            "Odd\n"
          ]
        }
      ]
    },
    {
      "cell_type": "code",
      "source": [
        "#4. Slice a list and properties\n",
        "my_list = [1, 2, 3, 4, 5, 6, 7, 8, 9]\n",
        "\n",
        "print(my_list[2:7])\n",
        "print(len(my_list))\n",
        "\n",
        "list.append(my_list, 1)\n",
        "print(my_list.count(1))\n",
        "\n",
        "my_list.reverse()\n",
        "print(my_list)"
      ],
      "metadata": {
        "colab": {
          "base_uri": "https://localhost:8080/"
        },
        "id": "qnWpXTzmWXVN",
        "outputId": "ecedc703-017b-4ee5-bc45-da2feea1e441"
      },
      "execution_count": 101,
      "outputs": [
        {
          "output_type": "stream",
          "name": "stdout",
          "text": [
            "[3, 4, 5, 6, 7]\n",
            "9\n",
            "2\n",
            "[1, 9, 8, 7, 6, 5, 4, 3, 2, 1]\n"
          ]
        }
      ]
    },
    {
      "cell_type": "code",
      "source": [
        "#5. Sum all elements\n",
        "my_list = [1, 2, 3, 4, 5, 6, 7, 8, 9]\n",
        "\n",
        "sum=0\n",
        "for i in my_list:\n",
        "  sum = sum + i\n",
        "print(sum)"
      ],
      "metadata": {
        "colab": {
          "base_uri": "https://localhost:8080/"
        },
        "id": "ccEX4ldcX7eD",
        "outputId": "1e121cd6-3f91-4460-e05a-f65841b91e08"
      },
      "execution_count": 103,
      "outputs": [
        {
          "output_type": "stream",
          "name": "stdout",
          "text": [
            "45\n"
          ]
        }
      ]
    },
    {
      "cell_type": "code",
      "source": [
        "#6. Remove repeated elements\n",
        "my_list = [0, 1, 1, 1, 1, 2, 3, 4,]\n",
        "while 1 in my_list:\n",
        "  my_list.remove(1)\n",
        "print(my_list)"
      ],
      "metadata": {
        "colab": {
          "base_uri": "https://localhost:8080/"
        },
        "id": "cCtXWKu6YUtk",
        "outputId": "9ffb37b4-ce43-4985-bfed-f7f17fcbda4f"
      },
      "execution_count": 104,
      "outputs": [
        {
          "output_type": "stream",
          "name": "stdout",
          "text": [
            "[0, 2, 3, 4]\n"
          ]
        }
      ]
    },
    {
      "cell_type": "code",
      "source": [
        "#7. Remove duplicated elements\n",
        "my_list = [0, 1, 1, 1, 2, 2, 2, 3, 4, 4, 4, 4, 5, 5]\n",
        "my_list = list(set(my_list))\n",
        "print(my_list)"
      ],
      "metadata": {
        "colab": {
          "base_uri": "https://localhost:8080/"
        },
        "id": "4Y_5PetYvVCv",
        "outputId": "76562aff-d88a-4851-af1b-2a40c1bb0df2"
      },
      "execution_count": 105,
      "outputs": [
        {
          "output_type": "stream",
          "name": "stdout",
          "text": [
            "[0, 1, 2, 3, 4, 5]\n"
          ]
        }
      ]
    },
    {
      "cell_type": "markdown",
      "source": [
        "# Easter Egg"
      ],
      "metadata": {
        "id": "mg1zGkuBXCOd"
      }
    },
    {
      "cell_type": "code",
      "source": [
        "import this"
      ],
      "metadata": {
        "colab": {
          "base_uri": "https://localhost:8080/"
        },
        "id": "dS0ngVz3XEKA",
        "outputId": "29398c23-19ac-44c4-938d-f21fd8a69a21"
      },
      "execution_count": 106,
      "outputs": [
        {
          "output_type": "stream",
          "name": "stdout",
          "text": [
            "The Zen of Python, by Tim Peters\n",
            "\n",
            "Beautiful is better than ugly.\n",
            "Explicit is better than implicit.\n",
            "Simple is better than complex.\n",
            "Complex is better than complicated.\n",
            "Flat is better than nested.\n",
            "Sparse is better than dense.\n",
            "Readability counts.\n",
            "Special cases aren't special enough to break the rules.\n",
            "Although practicality beats purity.\n",
            "Errors should never pass silently.\n",
            "Unless explicitly silenced.\n",
            "In the face of ambiguity, refuse the temptation to guess.\n",
            "There should be one-- and preferably only one --obvious way to do it.\n",
            "Although that way may not be obvious at first unless you're Dutch.\n",
            "Now is better than never.\n",
            "Although never is often better than *right* now.\n",
            "If the implementation is hard to explain, it's a bad idea.\n",
            "If the implementation is easy to explain, it may be a good idea.\n",
            "Namespaces are one honking great idea -- let's do more of those!\n"
          ]
        }
      ]
    }
  ]
}