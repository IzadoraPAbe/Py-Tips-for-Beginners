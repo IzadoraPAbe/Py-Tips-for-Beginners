{
  "nbformat": 4,
  "nbformat_minor": 0,
  "metadata": {
    "colab": {
      "provenance": [],
      "toc_visible": true,
      "authorship_tag": "ABX9TyNHn01tTLazzdCHRbbvVxsI"
    },
    "kernelspec": {
      "name": "python3",
      "display_name": "Python 3"
    },
    "language_info": {
      "name": "python"
    }
  },
  "cells": [
    {
      "cell_type": "markdown",
      "source": [
        "# Introduction"
      ],
      "metadata": {
        "id": "zAeRcNhPOodm"
      }
    },
    {
      "cell_type": "code",
      "execution_count": 3,
      "metadata": {
        "colab": {
          "base_uri": "https://localhost:8080/"
        },
        "id": "Ih38OGKYsvdf",
        "outputId": "4290b86a-9446-4127-d735-f2e2a04503d2"
      },
      "outputs": [
        {
          "output_type": "stream",
          "name": "stdout",
          "text": [
            "Hello, World!\n",
            "Hello, World!\n",
            "1, 2, 3\n"
          ]
        }
      ],
      "source": [
        "# use # to comment a single line\n",
        "\"\"\"\n",
        "to comment more lines, use \"\n",
        "\"\"\"\n",
        "\n",
        "print(\"Hello, World!\")\n",
        "print(\"Hello,\", end=' ')\n",
        "print(\"World!\")\n",
        "print(1, 2, 3, sep=\", \")"
      ]
    },
    {
      "cell_type": "code",
      "source": [
        "# use format to personalize your text\n",
        "\n",
        "A = \"John\"\n",
        "B = 30\n",
        "print(\"Hi %s, you're %d\" %(A, B))\n",
        "print(\"Hi {}, you're {}\".format(A, B))\n",
        "print(f\"Hi {A}, you're {B}\")\n",
        "\n",
        "# d-int\n",
        "# f-float\n",
        "# s-string"
      ],
      "metadata": {
        "colab": {
          "base_uri": "https://localhost:8080/"
        },
        "id": "VGf74fr_ZB7J",
        "outputId": "e0114d37-43e5-4948-bb96-70ce3b68bfd8"
      },
      "execution_count": 4,
      "outputs": [
        {
          "output_type": "stream",
          "name": "stdout",
          "text": [
            "Hi John, you're 30\n",
            "Hi John, you're 30\n",
            "Hi John, you're 30\n"
          ]
        }
      ]
    },
    {
      "cell_type": "code",
      "source": [
        "x = 2.5\n",
        "print(x)\n",
        "print(\"%.2f\" %(x))\n",
        "print(f\"The number is {x:.0f}\")\n",
        "\n",
        "x = 12345.65\n",
        "print(f\"The price is $ {x:,.2f}\")"
      ],
      "metadata": {
        "colab": {
          "base_uri": "https://localhost:8080/"
        },
        "id": "C_EmO9XS5WLo",
        "outputId": "6764383b-f787-4f55-8229-01b7ad5b86c2"
      },
      "execution_count": 5,
      "outputs": [
        {
          "output_type": "stream",
          "name": "stdout",
          "text": [
            "2.5\n",
            "2.50\n",
            "The number is 2\n",
            "The price is $ 12,345.65\n"
          ]
        }
      ]
    },
    {
      "cell_type": "markdown",
      "source": [
        "# Types"
      ],
      "metadata": {
        "id": "DsE8WqCS-aWq"
      }
    },
    {
      "cell_type": "markdown",
      "source": [
        "## Number"
      ],
      "metadata": {
        "id": "t3XJY9s6PZt3"
      }
    },
    {
      "cell_type": "code",
      "source": [
        "\"\"\"\n",
        "1 = integer = int\n",
        "1.1 = decimal = float\n",
        "Basic operations:\n",
        "+ (sum), - (sub), / (div), * (mult), ** (exp), // (int div), % (remainder)\n",
        "\"\"\"\n",
        "\n",
        "x=1+1\n",
        "y=1.1+2 #float + int = float\n",
        "\n",
        "print(type(x), type(y))"
      ],
      "metadata": {
        "colab": {
          "base_uri": "https://localhost:8080/"
        },
        "id": "oSKPyQPEM6vl",
        "outputId": "1f37e375-e68c-4258-f86b-8bafc127779f"
      },
      "execution_count": 6,
      "outputs": [
        {
          "output_type": "stream",
          "name": "stdout",
          "text": [
            "<class 'int'> <class 'float'>\n"
          ]
        }
      ]
    },
    {
      "cell_type": "code",
      "source": [
        "# Calculator\n",
        "Number1 = 4\n",
        "Number2 = 7\n",
        "\n",
        "print(\"sum: \", Number1 + Number2)\n",
        "print(\"sub: \", Number1 - Number2)\n",
        "print(\"div: \", Number1 / Number2)\n",
        "print(\"mult: \", Number1 * Number2)\n",
        "print(\"exp: \", Number1 ** Number2)\n",
        "print(\"int div: \", Number1 // Number2)\n",
        "print(\"remainder: \", Number1 % Number2)"
      ],
      "metadata": {
        "colab": {
          "base_uri": "https://localhost:8080/"
        },
        "id": "egsaiMmEb-1W",
        "outputId": "25f825d1-26ec-4d70-e9db-564db522cd44"
      },
      "execution_count": 7,
      "outputs": [
        {
          "output_type": "stream",
          "name": "stdout",
          "text": [
            "sum:  11\n",
            "sub:  -3\n",
            "div:  0.5714285714285714\n",
            "mult:  28\n",
            "exp:  16384\n",
            "int div:  0\n",
            "remainder:  4\n"
          ]
        }
      ]
    },
    {
      "cell_type": "markdown",
      "source": [
        "## String"
      ],
      "metadata": {
        "id": "uT0NqeXGRDW5"
      }
    },
    {
      "cell_type": "code",
      "source": [
        "# Strings are texts\n",
        "# Use \"\" or ''\n",
        "\n",
        "Name = \"Ana\"\n",
        "Age = '20'\n",
        "\n",
        "print(type(Age))\n",
        "print(\"Hi! I'm \" + Name + \". I'm \" + Age + \" years old\")"
      ],
      "metadata": {
        "colab": {
          "base_uri": "https://localhost:8080/"
        },
        "id": "unDqPflbT3YF",
        "outputId": "2b977535-0734-43d1-a13c-98a35f43fc55"
      },
      "execution_count": 8,
      "outputs": [
        {
          "output_type": "stream",
          "name": "stdout",
          "text": [
            "<class 'str'>\n",
            "Hi! I'm Ana. I'm 20 years old\n"
          ]
        }
      ]
    },
    {
      "cell_type": "code",
      "source": [
        "# Use * to repeat\n",
        "print (\"-\" *10)"
      ],
      "metadata": {
        "colab": {
          "base_uri": "https://localhost:8080/"
        },
        "id": "n8IAhl-XYpxO",
        "outputId": "47090968-002f-495b-c601-d7b1a6c93fb8"
      },
      "execution_count": 9,
      "outputs": [
        {
          "output_type": "stream",
          "name": "stdout",
          "text": [
            "----------\n"
          ]
        }
      ]
    },
    {
      "cell_type": "markdown",
      "source": [
        "## Boolean"
      ],
      "metadata": {
        "id": "36Xu2FqZTomw"
      }
    },
    {
      "cell_type": "code",
      "source": [
        "# True (1) or false (0)\n",
        "# Frequently used in conditions and comparisons\n",
        "\n",
        "active = True\n",
        "print(type(active))\n",
        "\n",
        "print(5==6)\n",
        "print(type(5==6))"
      ],
      "metadata": {
        "colab": {
          "base_uri": "https://localhost:8080/"
        },
        "id": "k1-6DNJyUr7x",
        "outputId": "c62c71da-c96d-449a-9ad4-4aa0bd347976"
      },
      "execution_count": 10,
      "outputs": [
        {
          "output_type": "stream",
          "name": "stdout",
          "text": [
            "<class 'bool'>\n",
            "False\n",
            "<class 'bool'>\n"
          ]
        }
      ]
    },
    {
      "cell_type": "markdown",
      "source": [
        "Operators\n",
        "==, !=, >, <, >=, <=\n"
      ],
      "metadata": {
        "id": "aASM6QoAcsXr"
      }
    },
    {
      "cell_type": "code",
      "source": [
        "print(Number1 == Number2)\n",
        "print(Number1 != Number2)\n",
        "print(Number1 > Number2)\n",
        "print(Number1 < Number2)\n",
        "print(Number1 >= Number2)\n",
        "print(Number1 <= Number2)"
      ],
      "metadata": {
        "colab": {
          "base_uri": "https://localhost:8080/"
        },
        "id": "E-LVWKKfd0kI",
        "outputId": "93d26ec0-e2ac-4ff1-9b4c-b628e244514e"
      },
      "execution_count": 11,
      "outputs": [
        {
          "output_type": "stream",
          "name": "stdout",
          "text": [
            "False\n",
            "True\n",
            "False\n",
            "True\n",
            "False\n",
            "True\n"
          ]
        }
      ]
    },
    {
      "cell_type": "markdown",
      "source": [
        "Operators and, or, not"
      ],
      "metadata": {
        "id": "uH7mr6ZpfcsD"
      }
    },
    {
      "cell_type": "code",
      "source": [
        "print(True and True)\n",
        "print(True and False)\n",
        "print(True or False)\n",
        "print(not True)"
      ],
      "metadata": {
        "colab": {
          "base_uri": "https://localhost:8080/"
        },
        "id": "VC1ZOCgffg-J",
        "outputId": "d5b7eda7-3312-4e5e-fde9-4af2b05f1d23"
      },
      "execution_count": 12,
      "outputs": [
        {
          "output_type": "stream",
          "name": "stdout",
          "text": [
            "True\n",
            "False\n",
            "True\n",
            "False\n"
          ]
        }
      ]
    },
    {
      "cell_type": "markdown",
      "source": [
        "## Lists"
      ],
      "metadata": {
        "id": "TEyN9NkcVuV1"
      }
    },
    {
      "cell_type": "code",
      "source": [
        "# A list can store multiple values ​​of different types\n",
        "\n",
        "data = ['Peter', 25, True]\n",
        "data.append(3.14)\n",
        "print(data)\n",
        "print(data[1])"
      ],
      "metadata": {
        "colab": {
          "base_uri": "https://localhost:8080/"
        },
        "id": "w5ZnF_ZuVwMB",
        "outputId": "6e3652f0-e070-4098-e862-b6368994671f"
      },
      "execution_count": 13,
      "outputs": [
        {
          "output_type": "stream",
          "name": "stdout",
          "text": [
            "['Peter', 25, True, 3.14]\n",
            "25\n"
          ]
        }
      ]
    },
    {
      "cell_type": "code",
      "source": [
        "list2 = ['text', 'to', 'add']\n",
        "data = data + list2\n",
        "print(data)"
      ],
      "metadata": {
        "colab": {
          "base_uri": "https://localhost:8080/"
        },
        "id": "fmvSyJ1FagQK",
        "outputId": "4b8c8643-7bba-4110-b2b9-148931638dc2"
      },
      "execution_count": 14,
      "outputs": [
        {
          "output_type": "stream",
          "name": "stdout",
          "text": [
            "['Peter', 25, True, 3.14, 'text', 'to', 'add']\n"
          ]
        }
      ]
    },
    {
      "cell_type": "code",
      "source": [
        "# Tuple is similar to list but immutable\n",
        "colors = ('red', 'blue', 'pink')\n",
        "print(colors[0])"
      ],
      "metadata": {
        "colab": {
          "base_uri": "https://localhost:8080/"
        },
        "id": "OCklP_RDWVE8",
        "outputId": "2b79c429-6d22-4473-c741-819505231734"
      },
      "execution_count": 15,
      "outputs": [
        {
          "output_type": "stream",
          "name": "stdout",
          "text": [
            "red\n"
          ]
        }
      ]
    },
    {
      "cell_type": "markdown",
      "source": [
        "# Variables"
      ],
      "metadata": {
        "id": "JlgDhYR8ROdi"
      }
    },
    {
      "cell_type": "code",
      "source": [
        "# To assign a value to a variable, use =\n",
        "# Variable = Value\n",
        "\n",
        "Name = \"Marie\"\n",
        "print(Name)\n",
        "\n",
        "# Careful! You cannot start a variable with a number or special character\n",
        "# Start variables with letters or _\n",
        "# To make it more legible, you can use snake_case or objCaract\n",
        "# Python is case sensitive -> Name != name"
      ],
      "metadata": {
        "colab": {
          "base_uri": "https://localhost:8080/"
        },
        "id": "3M710nScRIIo",
        "outputId": "b60cbd7b-8efe-439a-f18e-a6bf27ced4fc"
      },
      "execution_count": 16,
      "outputs": [
        {
          "output_type": "stream",
          "name": "stdout",
          "text": [
            "Marie\n"
          ]
        }
      ]
    },
    {
      "cell_type": "markdown",
      "source": [
        "# Input"
      ],
      "metadata": {
        "id": "F_-kXo-2gpbB"
      }
    },
    {
      "cell_type": "code",
      "source": [
        "# Use input to ask the user for a value\n",
        "# Return string\n",
        "age = input(\"How old are you? \")\n",
        "print(type(age))\n",
        "print(\"You are \" + age + \" years old\")"
      ],
      "metadata": {
        "colab": {
          "base_uri": "https://localhost:8080/"
        },
        "id": "lfBpl-y0grEa",
        "outputId": "12a02739-8ad1-4d11-8149-68b0cdb523a7"
      },
      "execution_count": 17,
      "outputs": [
        {
          "output_type": "stream",
          "name": "stdout",
          "text": [
            "How old are you? 15\n",
            "<class 'str'>\n",
            "You are 15 years old\n"
          ]
        }
      ]
    },
    {
      "cell_type": "code",
      "source": [
        "height = float(input(\"How tall are you? \"))\n",
        "weight = float(input(\"How much do you weigh? \"))\n",
        "print(\"Your IMC is \", weight / (height**2))"
      ],
      "metadata": {
        "colab": {
          "base_uri": "https://localhost:8080/"
        },
        "id": "1FvI2WJwhyJd",
        "outputId": "28519367-2ac1-4a7d-bcfe-951ed090d1a0"
      },
      "execution_count": 18,
      "outputs": [
        {
          "output_type": "stream",
          "name": "stdout",
          "text": [
            "How tall are you? 1.65\n",
            "How much do you weigh? 60\n",
            "Your IMC is  22.03856749311295\n"
          ]
        }
      ]
    },
    {
      "cell_type": "markdown",
      "source": [
        "# Loops"
      ],
      "metadata": {
        "id": "_50BDsh7DXLO"
      }
    },
    {
      "cell_type": "code",
      "source": [
        "# In Python, 'if' is a conditional statement used to control the flow of a program.\n",
        "# It allows you to execute a block of code only if a certain condition is true.\n",
        "\n",
        "x = 10\n",
        "if x>5:\n",
        "  print('x is greater than 5')"
      ],
      "metadata": {
        "colab": {
          "base_uri": "https://localhost:8080/"
        },
        "id": "Q8okVxSUDYWf",
        "outputId": "4f7f3407-3ac2-499d-c067-9660cb309197"
      },
      "execution_count": 1,
      "outputs": [
        {
          "output_type": "stream",
          "name": "stdout",
          "text": [
            "x is greater than 5\n"
          ]
        }
      ]
    },
    {
      "cell_type": "code",
      "source": [
        "if x==10:\n",
        "  print('x is equal to 10')\n",
        "else:\n",
        "  print('x is not equal to 10')"
      ],
      "metadata": {
        "colab": {
          "base_uri": "https://localhost:8080/"
        },
        "id": "JDI3TtbrDfPx",
        "outputId": "99d3e8d2-f11a-4bf7-8e17-d36f5436bc0e"
      },
      "execution_count": 2,
      "outputs": [
        {
          "output_type": "stream",
          "name": "stdout",
          "text": [
            "x is equal to 10\n"
          ]
        }
      ]
    },
    {
      "cell_type": "code",
      "source": [
        "grade = float(input('Enter your grade (0/100): '))\n",
        "if grade >= 90:\n",
        "  print('A')\n",
        "elif grade >= 80:\n",
        "  print('B')\n",
        "elif grade >= 70:\n",
        "  print('C')\n",
        "elif grade >= 60:\n",
        "  print('D')\n",
        "else:\n",
        "  print('F')"
      ],
      "metadata": {
        "colab": {
          "base_uri": "https://localhost:8080/"
        },
        "id": "YVLKwMv2EJp-",
        "outputId": "5328cc1d-9395-42f3-998b-1a18b05cbfa4"
      },
      "execution_count": 24,
      "outputs": [
        {
          "output_type": "stream",
          "name": "stdout",
          "text": [
            "Enter your grade (0/100): 75\n",
            "C\n"
          ]
        }
      ]
    },
    {
      "cell_type": "markdown",
      "source": [
        "# Exercises"
      ],
      "metadata": {
        "id": "bEbGvViD-oCr"
      }
    },
    {
      "cell_type": "code",
      "source": [
        "#1. Calculate de average\n",
        "test1 = input('What is your first test score? ')\n",
        "test2 = input('What is your second test score? ')\n",
        "test3 = input('What is your third test score? ')\n",
        "average = (float(test1) + float(test2) + float(test3)) / 3\n",
        "print('Your average is %.2f' %(average))"
      ],
      "metadata": {
        "colab": {
          "base_uri": "https://localhost:8080/"
        },
        "id": "acNMeUNN-txx",
        "outputId": "7e7c8d06-7859-4870-bd6b-6e0cf0230766"
      },
      "execution_count": 19,
      "outputs": [
        {
          "output_type": "stream",
          "name": "stdout",
          "text": [
            "What is your first test score? 8\n",
            "What is your second test score? 9.5\n",
            "What is your third test score? 6\n",
            "Your average is 7.83\n"
          ]
        }
      ]
    },
    {
      "cell_type": "code",
      "source": [
        "#2. Discount Calculator\n",
        "originalPrice = input('Original price: ')\n",
        "discount = input('% discount: ')\n",
        "newPrice = float(originalPrice)*(1 - float(discount)/100)\n",
        "print('New price: %.2f' %(newPrice))"
      ],
      "metadata": {
        "colab": {
          "base_uri": "https://localhost:8080/"
        },
        "id": "jpXXlvaO_lyt",
        "outputId": "8769ad05-28b2-4ef7-8204-814e1699d7ad"
      },
      "execution_count": 20,
      "outputs": [
        {
          "output_type": "stream",
          "name": "stdout",
          "text": [
            "Original price: 750\n",
            "% discount: 15\n",
            "New price: 637.50\n"
          ]
        }
      ]
    },
    {
      "cell_type": "code",
      "source": [
        "#3. Even or odd?\n",
        "number = input('Number: ')\n",
        "if int(number) % 2 == 0:\n",
        "    print('Even')\n",
        "else:\n",
        "    print('Odd')"
      ],
      "metadata": {
        "colab": {
          "base_uri": "https://localhost:8080/"
        },
        "id": "QjN3jCWIAO_U",
        "outputId": "6a157ab1-b69d-4c4b-ae7f-4c5aac900cf4"
      },
      "execution_count": 21,
      "outputs": [
        {
          "output_type": "stream",
          "name": "stdout",
          "text": [
            "Number: 9\n",
            "Odd\n"
          ]
        }
      ]
    },
    {
      "cell_type": "markdown",
      "source": [
        "# Easter Egg"
      ],
      "metadata": {
        "id": "mg1zGkuBXCOd"
      }
    },
    {
      "cell_type": "code",
      "source": [
        "import this"
      ],
      "metadata": {
        "colab": {
          "base_uri": "https://localhost:8080/"
        },
        "id": "dS0ngVz3XEKA",
        "outputId": "493cc50e-61cf-44b5-9990-9c7b92fc58a5"
      },
      "execution_count": 22,
      "outputs": [
        {
          "output_type": "stream",
          "name": "stdout",
          "text": [
            "The Zen of Python, by Tim Peters\n",
            "\n",
            "Beautiful is better than ugly.\n",
            "Explicit is better than implicit.\n",
            "Simple is better than complex.\n",
            "Complex is better than complicated.\n",
            "Flat is better than nested.\n",
            "Sparse is better than dense.\n",
            "Readability counts.\n",
            "Special cases aren't special enough to break the rules.\n",
            "Although practicality beats purity.\n",
            "Errors should never pass silently.\n",
            "Unless explicitly silenced.\n",
            "In the face of ambiguity, refuse the temptation to guess.\n",
            "There should be one-- and preferably only one --obvious way to do it.\n",
            "Although that way may not be obvious at first unless you're Dutch.\n",
            "Now is better than never.\n",
            "Although never is often better than *right* now.\n",
            "If the implementation is hard to explain, it's a bad idea.\n",
            "If the implementation is easy to explain, it may be a good idea.\n",
            "Namespaces are one honking great idea -- let's do more of those!\n"
          ]
        }
      ]
    }
  ]
}