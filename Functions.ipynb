{
  "nbformat": 4,
  "nbformat_minor": 0,
  "metadata": {
    "colab": {
      "provenance": [],
      "authorship_tag": "ABX9TyOLVH4NkBfulsnpyEETsD/3"
    },
    "kernelspec": {
      "name": "python3",
      "display_name": "Python 3"
    },
    "language_info": {
      "name": "python"
    }
  },
  "cells": [
    {
      "cell_type": "markdown",
      "source": [
        "# Introduction"
      ],
      "metadata": {
        "id": "7p9qcom_ULPL"
      }
    },
    {
      "cell_type": "code",
      "execution_count": 1,
      "metadata": {
        "colab": {
          "base_uri": "https://localhost:8080/"
        },
        "id": "D0MglVRRT4Pi",
        "outputId": "475cc07c-c41d-4c56-b06c-0982791391d0"
      },
      "outputs": [
        {
          "output_type": "stream",
          "name": "stdout",
          "text": [
            "Hello, Alice!\n"
          ]
        }
      ],
      "source": [
        "# A function in Python is a reusable block of code that performs a specific task.\n",
        "# It helps you organize your code into smaller, manageable pieces.\n",
        "\n",
        "#   Advantages of using functions:\n",
        "# - Makes your code easier to read and understand\n",
        "# - Avoids repeating the same code (DRY principle: Don't Repeat Yourself)\n",
        "# - Makes debugging and testing easier\n",
        "# - Helps in organizing code logically, especially in larger projects\n",
        "\n",
        "def greet(Name):\n",
        "  print(f\"Hello, {Name}!\")\n",
        "\n",
        "greet(\"Alice\")"
      ]
    },
    {
      "cell_type": "code",
      "source": [
        "# You can set a default value for a function parameter.\n",
        "# This value will be used if no argument is passed for that parameter when the function is called.\n",
        "\n",
        "def greet(Name=\"Guest\"):\n",
        "  print(f\"Hello, {Name}!\")\n",
        "\n",
        "greet()"
      ],
      "metadata": {
        "colab": {
          "base_uri": "https://localhost:8080/"
        },
        "id": "TSlAFg3JVL5c",
        "outputId": "53024237-372a-4422-b901-a591ee164eed"
      },
      "execution_count": 3,
      "outputs": [
        {
          "output_type": "stream",
          "name": "stdout",
          "text": [
            "Hello, Guest!\n"
          ]
        }
      ]
    },
    {
      "cell_type": "code",
      "source": [
        "# Local Variables:\n",
        "# - Defined inside a function and only exist while the function is running.\n",
        "# - You can only use them within that specific function.\n",
        "# Global Variables:\n",
        "# - Defined outside of all functions and accessible from anywhere in the code.\n",
        "\n",
        "a='Global'\n",
        "\n",
        "def print_a():\n",
        "  a='Local'\n",
        "  print(a)\n",
        "\n",
        "print_a()\n",
        "print(a)"
      ],
      "metadata": {
        "colab": {
          "base_uri": "https://localhost:8080/"
        },
        "id": "89469L9JMT49",
        "outputId": "d2192319-a262-4982-e8e1-e0da98ac03ec"
      },
      "execution_count": 11,
      "outputs": [
        {
          "output_type": "stream",
          "name": "stdout",
          "text": [
            "Local\n",
            "Global\n"
          ]
        }
      ]
    },
    {
      "cell_type": "markdown",
      "source": [
        "# Return"
      ],
      "metadata": {
        "id": "JIIvO4dlU0bO"
      }
    },
    {
      "cell_type": "code",
      "source": [
        "# The `return` statement is used to send a value back from a function to where it was called.\n",
        "# This is useful when you want to get a result from a function and use it later in your code.\n",
        "\n",
        "def add_numbers(a, b):\n",
        "  result = a + b\n",
        "  return result\n",
        "\n",
        "sum_result = add_numbers(5, 3)\n",
        "print(sum_result)"
      ],
      "metadata": {
        "colab": {
          "base_uri": "https://localhost:8080/"
        },
        "id": "SFZAyKYBU5Cp",
        "outputId": "ae5e1bc2-2961-4c48-a01b-eda0bdc13e67"
      },
      "execution_count": 2,
      "outputs": [
        {
          "output_type": "stream",
          "name": "stdout",
          "text": [
            "8\n"
          ]
        }
      ]
    },
    {
      "cell_type": "code",
      "source": [
        "# If a function doesn't have a `return` statement, it will automatically return `None`.\n",
        "\n",
        "def print_hello():\n",
        "  print('Hello!')\n",
        "\n",
        "result = print_hello()\n",
        "print(result)"
      ],
      "metadata": {
        "colab": {
          "base_uri": "https://localhost:8080/"
        },
        "id": "3jMKtOkT-qT3",
        "outputId": "20d4a84c-3408-4a1c-c183-c2076b56e7d7"
      },
      "execution_count": 9,
      "outputs": [
        {
          "output_type": "stream",
          "name": "stdout",
          "text": [
            "Hello!\n",
            "None\n"
          ]
        }
      ]
    },
    {
      "cell_type": "markdown",
      "source": [
        "# Error Handeling"
      ],
      "metadata": {
        "id": "E58j8ERCNZLW"
      }
    },
    {
      "cell_type": "code",
      "source": [
        "# You can handle errors (also called exceptions) using `try` and `except` blocks.\n",
        "# This helps prevent your program from crashing when something unexpected happens.\n",
        "\n",
        "try:\n",
        "  print(x)\n",
        "except:\n",
        "  print('Not possible')"
      ],
      "metadata": {
        "colab": {
          "base_uri": "https://localhost:8080/"
        },
        "id": "dGVT0znTNlQU",
        "outputId": "d2876ee7-db09-404a-d7bd-acdeb5eaaa1f"
      },
      "execution_count": 12,
      "outputs": [
        {
          "output_type": "stream",
          "name": "stdout",
          "text": [
            "Not possible\n"
          ]
        }
      ]
    },
    {
      "cell_type": "markdown",
      "source": [
        "# Exercises"
      ],
      "metadata": {
        "id": "Qcu880PCe1q4"
      }
    },
    {
      "cell_type": "code",
      "source": [
        "#1. Calculate the volume of the cube\n",
        "\n",
        "def volume(side):\n",
        "  return side ** 3\n",
        "\n",
        "side = input(\"Side of the cube: \")\n",
        "print(f\"The volume of the cube is {volume(int(side))}\")"
      ],
      "metadata": {
        "colab": {
          "base_uri": "https://localhost:8080/"
        },
        "id": "Tv1lSCYYe4Ar",
        "outputId": "4613562e-f647-4c6f-d760-3bfef22e627b"
      },
      "execution_count": 4,
      "outputs": [
        {
          "output_type": "stream",
          "name": "stdout",
          "text": [
            "Side of the cube: 3\n",
            "The volume of the cube is 27\n"
          ]
        }
      ]
    },
    {
      "cell_type": "code",
      "source": [
        "#2. Odd or even?\n",
        "\n",
        "def odd_or_even(number):\n",
        "  if number % 2 == 0:\n",
        "    return \"even\"\n",
        "  else:\n",
        "    return \"odd\"\n",
        "\n",
        "number = input('Number: ')\n",
        "print(f\"{number} is {odd_or_even(int(number))}\")"
      ],
      "metadata": {
        "colab": {
          "base_uri": "https://localhost:8080/"
        },
        "id": "kLtAQilkj1J8",
        "outputId": "f11c7940-cd57-420d-c2af-451357cdc62d"
      },
      "execution_count": 7,
      "outputs": [
        {
          "output_type": "stream",
          "name": "stdout",
          "text": [
            "Number: 4\n",
            "4 is even\n"
          ]
        }
      ]
    },
    {
      "cell_type": "code",
      "source": [
        "#3. Create a function to divide two numbers\n",
        "\n",
        "def divide (a, b):\n",
        "  try:\n",
        "    return a/b\n",
        "  except:\n",
        "    return \"Cannot divide by zero\"\n",
        "\n",
        "print(divide(10, 2))\n",
        "print(divide(5, 0))"
      ],
      "metadata": {
        "colab": {
          "base_uri": "https://localhost:8080/"
        },
        "id": "ai0OSjL4N5LJ",
        "outputId": "6549d132-8673-4765-a669-d84dff618580"
      },
      "execution_count": 13,
      "outputs": [
        {
          "output_type": "stream",
          "name": "stdout",
          "text": [
            "5.0\n",
            "Cannot divide by zero\n"
          ]
        }
      ]
    }
  ]
}