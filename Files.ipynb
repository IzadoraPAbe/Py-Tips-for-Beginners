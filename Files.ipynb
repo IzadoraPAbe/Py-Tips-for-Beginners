{
  "nbformat": 4,
  "nbformat_minor": 0,
  "metadata": {
    "colab": {
      "provenance": [],
      "toc_visible": true,
      "authorship_tag": "ABX9TyPK9jeL9oyYbeaA0C6r2c6B"
    },
    "kernelspec": {
      "name": "python3",
      "display_name": "Python 3"
    },
    "language_info": {
      "name": "python"
    }
  },
  "cells": [
    {
      "cell_type": "markdown",
      "source": [
        "# .txt Files"
      ],
      "metadata": {
        "id": "TUyFqWZDT1nN"
      }
    },
    {
      "cell_type": "markdown",
      "source": [
        "## Open Files\n"
      ],
      "metadata": {
        "id": "1M9EkoavT5z7"
      }
    },
    {
      "cell_type": "code",
      "execution_count": null,
      "metadata": {
        "id": "jBT0j7EqTdo1"
      },
      "outputs": [],
      "source": [
        "\"\"\"\n",
        "In Python, opening files is simple and essential for reading or writing data.\n",
        "The built-in open() function is used to access files.\n",
        "It requires at least one argument — the file name — and optionally a mode that specifies how the file should be opened (e.g., for reading, writing, or appending).\n",
        "For example, open(\"example.txt\", \"r\") opens a file named example.txt in read mode.\n",
        "\n",
        "Modes:\n",
        "\"r\" (Read): Opens the file for reading (default mode). The file must exist.\n",
        "\"w\" (Write): Opens the file for writing. If the file already exists, it will be overwritten. If it doesn’t exist, a new file will be created.\n",
        "\"a\" (Append): Opens the file for appending. Data is added to the end of the file without deleting existing content. If the file doesn’t exist, it will be created.\n",
        "\"x\" (Exclusive Creation): Creates a new file. If the file already exists, an error is raised.\n",
        "\"b\" (Binary mode): Used to handle binary files (like images or executables). Add this to other modes (e.g., \"rb\" or \"wb\").\n",
        "\"t\" (Text mode): This is the default. Used for text files. Can be combined with other modes (e.g., \"rt\" or \"wt\").\n",
        "\"+\" (Read and Write): Allows both reading and writing to a file. Combine with other modes (e.g., \"r+\" or \"w+\").\n",
        "\"\"\"\n",
        "\n",
        "# Open a file\n",
        "file = open(\"example.txt\", \"r\")\n",
        "\n",
        "# Reading\n",
        "content = file.read()\n",
        "\n",
        "# Closing\n",
        "file.close()"
      ]
    },
    {
      "cell_type": "code",
      "source": [
        "# Open a file\n",
        "file = open(\"example.txt\", \"r\")\n",
        "\n",
        "# Reading with for\n",
        "for lines in file:\n",
        "    print(lines)\n",
        "\n",
        "# Closing\n",
        "file.close()"
      ],
      "metadata": {
        "id": "MgYK3DzuESCU"
      },
      "execution_count": null,
      "outputs": []
    },
    {
      "cell_type": "code",
      "source": [
        "# Open a file\n",
        "file = open(\"example.txt\", \"r\")\n",
        "\n",
        "# Reading with while\n",
        "line = file.readline()\n",
        "while line:                     #while line exists\n",
        "    print(line.strip())         #strip to ignore \\n (remove whitespaces)\n",
        "    line = file.readline()\n",
        "\n",
        "# Closing\n",
        "file.close()"
      ],
      "metadata": {
        "id": "3FSEGS1AEmGl"
      },
      "execution_count": null,
      "outputs": []
    },
    {
      "cell_type": "code",
      "source": [
        "# with ... as statement is commonly used when working with files.\n",
        "# It provides a clean and efficient way to open and automatically close files, even if an error occurs during file operations.\n",
        "\n",
        "with open(\"example.txt\", \"r\") as file:\n",
        "    content = file.read()"
      ],
      "metadata": {
        "id": "nCwqRsA7FbyC"
      },
      "execution_count": null,
      "outputs": []
    },
    {
      "cell_type": "markdown",
      "source": [
        "## Writing"
      ],
      "metadata": {
        "id": "X1gl8jPSHkW9"
      }
    },
    {
      "cell_type": "code",
      "source": [
        "# Overwrite with 'w'\n",
        "with open(\"example.txt\", \"w\") as file:\n",
        "    file.write(\"New content\\n\")\n",
        "    file.write(\"Another line\\n\")\n",
        "    file.write(\"Yet another line to overwrite\\n\")"
      ],
      "metadata": {
        "id": "BMTViQlbHrQ4"
      },
      "execution_count": null,
      "outputs": []
    },
    {
      "cell_type": "code",
      "source": [
        "# Write with 'a'\n",
        "with open(\"example.txt\", \"a\") as file:\n",
        "    file.write(\"New content to add\\n\")\n",
        "    file.write(\"Another line to append\\n\")\n",
        "\n",
        "with open(\"example.txt\", \"a\") as file:\n",
        "    file.write(\"New line after closing the file\\n\")"
      ],
      "metadata": {
        "id": "zdvU9rlSIanc"
      },
      "execution_count": 1,
      "outputs": []
    },
    {
      "cell_type": "markdown",
      "source": [
        "# JSON Files"
      ],
      "metadata": {
        "id": "XB8DKu7FKsDX"
      }
    },
    {
      "cell_type": "markdown",
      "source": [
        "## Open Files"
      ],
      "metadata": {
        "id": "v9SfNOvNM3rh"
      }
    },
    {
      "cell_type": "code",
      "source": [
        "# Python makes it easy to work with JSON (JavaScript Object Notation) using the built-in json module.\n",
        "# JSON is a common format used for storing and exchanging data, especially in web applications.\n",
        "\n",
        "import json"
      ],
      "metadata": {
        "id": "PX7ioMV9KuNg"
      },
      "execution_count": 2,
      "outputs": []
    },
    {
      "cell_type": "code",
      "source": [
        "with open(\"data.json\", \"r\") as file:\n",
        "    data = json.load(file)\n",
        "\n",
        "print(data)"
      ],
      "metadata": {
        "id": "MF9zHd_JL_Sw"
      },
      "execution_count": null,
      "outputs": []
    },
    {
      "cell_type": "code",
      "source": [
        "with open(\"products.json\", \"r\") as file:\n",
        "    products = json.load(file)\n",
        "\n",
        "for product in products:\n",
        "    print(product[\"name\"], product[\"price\"])"
      ],
      "metadata": {
        "id": "v_HoikhfM6pD"
      },
      "execution_count": null,
      "outputs": []
    },
    {
      "cell_type": "markdown",
      "source": [
        "## Writing"
      ],
      "metadata": {
        "id": "jtYTYFYoNm70"
      }
    },
    {
      "cell_type": "code",
      "source": [
        "# Use list or dictionaries\n",
        "\n",
        "import json"
      ],
      "metadata": {
        "id": "wGr67P-QNoYl"
      },
      "execution_count": 3,
      "outputs": []
    },
    {
      "cell_type": "code",
      "source": [
        "data = {\n",
        "    'name': 'Chaarles',\n",
        "    'age': 30,\n",
        "    'city': 'New York'\n",
        "  }\n",
        "\n",
        "with open(\"data.json\", \"w\") as file:\n",
        "    json.dump(data, file)"
      ],
      "metadata": {
        "id": "c4ATh219N2XE"
      },
      "execution_count": 4,
      "outputs": []
    },
    {
      "cell_type": "code",
      "source": [
        "data2 = {\n",
        "    'name': 'John',\n",
        "    'age': 30,\n",
        "    'city': 'Sao Paulo'\n",
        "}\n",
        "\n",
        "listData = [data, data2] #list of dictionaries!\n",
        "\n",
        "with open(\"data.json\", \"w\") as file:\n",
        "    json.dump(listData, file)"
      ],
      "metadata": {
        "id": "dMQ8rjlvOZCP"
      },
      "execution_count": 5,
      "outputs": []
    },
    {
      "cell_type": "markdown",
      "source": [
        "# Exercises"
      ],
      "metadata": {
        "id": "ozRzrFVCGHb9"
      }
    },
    {
      "cell_type": "code",
      "source": [
        "#1. Count the number of lines\n",
        "\n",
        "with open('sample.txt', 'r') as sample:\n",
        "  lines = sample.readlines()\n",
        "\n",
        "  print(\"Number of lines: \", len(lines))"
      ],
      "metadata": {
        "id": "nZVpALAOGM7r"
      },
      "execution_count": null,
      "outputs": []
    },
    {
      "cell_type": "code",
      "source": [
        "#2. Append a list\n",
        "\n",
        "fruits = ['apple', 'banana', 'orange']\n",
        "\n",
        "with open('fruits.txt', 'a') as file:\n",
        "  for fruit in fruits:\n",
        "    file.write(fruit + '\\n')"
      ],
      "metadata": {
        "id": "t5wGH1wZKBQj"
      },
      "execution_count": null,
      "outputs": []
    },
    {
      "cell_type": "markdown",
      "source": [],
      "metadata": {
        "id": "SAb7s2cpELmt"
      }
    }
  ]
}